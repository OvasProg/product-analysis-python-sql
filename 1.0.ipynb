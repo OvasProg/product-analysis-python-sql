{
 "cells": [
  {
   "cell_type": "code",
   "execution_count": 10,
   "id": "b98cf4f2-3b30-4336-b673-7b6e35917790",
   "metadata": {},
   "outputs": [
    {
     "name": "stdout",
     "output_type": "stream",
     "text": [
      "Collecting pandas\n",
      "  Using cached pandas-2.2.3-cp313-cp313-macosx_11_0_arm64.whl.metadata (89 kB)\n",
      "Collecting numpy>=1.26.0 (from pandas)\n",
      "  Downloading numpy-2.2.5-cp313-cp313-macosx_14_0_arm64.whl.metadata (62 kB)\n",
      "Requirement already satisfied: python-dateutil>=2.8.2 in /opt/homebrew/Cellar/jupyterlab/4.3.5/libexec/lib/python3.13/site-packages (from pandas) (2.9.0.post0)\n",
      "Collecting pytz>=2020.1 (from pandas)\n",
      "  Downloading pytz-2025.2-py2.py3-none-any.whl.metadata (22 kB)\n",
      "Collecting tzdata>=2022.7 (from pandas)\n",
      "  Downloading tzdata-2025.2-py2.py3-none-any.whl.metadata (1.4 kB)\n",
      "Requirement already satisfied: six>=1.5 in /opt/homebrew/Cellar/jupyterlab/4.3.5/libexec/lib/python3.13/site-packages (from python-dateutil>=2.8.2->pandas) (1.17.0)\n",
      "Using cached pandas-2.2.3-cp313-cp313-macosx_11_0_arm64.whl (11.3 MB)\n",
      "Downloading numpy-2.2.5-cp313-cp313-macosx_14_0_arm64.whl (5.1 MB)\n",
      "\u001b[2K   \u001b[38;2;114;156;31m━━━━━━━━━━━━━━━━━━━━━━━━━━━━━━━━━━━━━━━━\u001b[0m \u001b[32m5.1/5.1 MB\u001b[0m \u001b[31m4.4 MB/s\u001b[0m eta \u001b[36m0:00:00\u001b[0m[31m4.1 MB/s\u001b[0m eta \u001b[36m0:00:01\u001b[0m\n",
      "\u001b[?25hDownloading pytz-2025.2-py2.py3-none-any.whl (509 kB)\n",
      "Downloading tzdata-2025.2-py2.py3-none-any.whl (347 kB)\n",
      "Installing collected packages: pytz, tzdata, numpy, pandas\n",
      "Successfully installed numpy-2.2.5 pandas-2.2.3 pytz-2025.2 tzdata-2025.2\n",
      "\n",
      "\u001b[1m[\u001b[0m\u001b[34;49mnotice\u001b[0m\u001b[1;39;49m]\u001b[0m\u001b[39;49m A new release of pip is available: \u001b[0m\u001b[31;49m24.3.1\u001b[0m\u001b[39;49m -> \u001b[0m\u001b[32;49m25.1.1\u001b[0m\n",
      "\u001b[1m[\u001b[0m\u001b[34;49mnotice\u001b[0m\u001b[1;39;49m]\u001b[0m\u001b[39;49m To update, run: \u001b[0m\u001b[32;49m/opt/homebrew/Cellar/jupyterlab/4.3.5/libexec/bin/python -m pip install --upgrade pip\u001b[0m\n"
     ]
    }
   ],
   "source": [
    "!{sys.executable} -m pip install pandas\n"
   ]
  },
  {
   "cell_type": "code",
   "execution_count": 2,
   "id": "02260a6b-4949-46c0-b5b6-3c15b67e8c4b",
   "metadata": {},
   "outputs": [
    {
     "name": "stdout",
     "output_type": "stream",
     "text": [
      "/opt/homebrew/Cellar/jupyterlab/4.3.5/libexec/bin/python\n"
     ]
    }
   ],
   "source": [
    "import sys\n",
    "print(sys.executable)"
   ]
  },
  {
   "cell_type": "code",
   "execution_count": 3,
   "id": "187f7bc7-4173-4fc5-8b4b-863685ab6505",
   "metadata": {},
   "outputs": [],
   "source": [
    "import pandas as pd\n",
    "\n",
    "df = pd.read_csv('file1.csv', parse_dates=['purchase_date'])"
   ]
  },
  {
   "cell_type": "code",
   "execution_count": 4,
   "id": "4dbea6c7-e89d-499f-b19a-826a2714b683",
   "metadata": {},
   "outputs": [],
   "source": [
    "# Choose only 9.99 subscriptions\n",
    "df_offer = df[df['product_id'] == 'tenwords_1w_9.99_offer']"
   ]
  },
  {
   "cell_type": "code",
   "execution_count": 5,
   "id": "740c70f8-2484-4a16-99db-b87078cbaf54",
   "metadata": {},
   "outputs": [],
   "source": [
    "# Choose only non-refunded payments\n",
    "df_offer = df_offer[df_offer['refunded'] == False]"
   ]
  },
  {
   "cell_type": "code",
   "execution_count": 9,
   "id": "670b798e-5d95-45ad-9d58-98bf10997811",
   "metadata": {},
   "outputs": [],
   "source": [
    "df_offer_sorted = df_offer.sort_values(by=['user_id', 'purchase_date'])\n",
    "df_offer_sorted['payment_number'] = df_offer_sorted.groupby('user_id').cumcount() + 1\n"
   ]
  },
  {
   "cell_type": "code",
   "execution_count": 7,
   "id": "6fbad461-b1fd-4c5c-91b4-3792f3bdad3b",
   "metadata": {},
   "outputs": [],
   "source": [
    "# Calculate number of users with at least 1/2 paymnents\n",
    "users_with_1_payment = df_offer_sorted[df_offer_sorted['payment_number'] >= 1]['user_id'].nunique()\n",
    "users_with_2_payments = df_offer_sorted[df_offer_sorted['payment_number'] >= 2]['user_id'].nunique()\n"
   ]
  },
  {
   "cell_type": "code",
   "execution_count": 8,
   "id": "9a221c7e-b5ae-4b92-bd55-eaad2470cea7",
   "metadata": {},
   "outputs": [
    {
     "name": "stdout",
     "output_type": "stream",
     "text": [
      "Conversion in the second payment: 40.97%\n"
     ]
    }
   ],
   "source": [
    "conversion_rate = users_with_2_payments / users_with_1_payment\n",
    "print(f\"Conversion in the second payment: {conversion_rate:.2%}\")\n"
   ]
  },
  {
   "cell_type": "code",
   "execution_count": null,
   "id": "86aef14c-9b48-4541-a640-67cd78722080",
   "metadata": {},
   "outputs": [],
   "source": []
  }
 ],
 "metadata": {
  "kernelspec": {
   "display_name": "Python 3 (ipykernel)",
   "language": "python",
   "name": "python3"
  },
  "language_info": {
   "codemirror_mode": {
    "name": "ipython",
    "version": 3
   },
   "file_extension": ".py",
   "mimetype": "text/x-python",
   "name": "python",
   "nbconvert_exporter": "python",
   "pygments_lexer": "ipython3",
   "version": "3.13.1"
  }
 },
 "nbformat": 4,
 "nbformat_minor": 5
}

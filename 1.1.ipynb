{
 "cells": [
  {
   "cell_type": "code",
   "execution_count": 5,
   "id": "2fe322e6-1dc1-4e08-bd00-3d83bbefda7b",
   "metadata": {},
   "outputs": [
    {
     "name": "stdout",
     "output_type": "stream",
     "text": [
      "Collecting matplotlib\n",
      "  Downloading matplotlib-3.10.3-cp313-cp313-macosx_11_0_arm64.whl.metadata (11 kB)\n",
      "Collecting contourpy>=1.0.1 (from matplotlib)\n",
      "  Downloading contourpy-1.3.2-cp313-cp313-macosx_11_0_arm64.whl.metadata (5.5 kB)\n",
      "Collecting cycler>=0.10 (from matplotlib)\n",
      "  Using cached cycler-0.12.1-py3-none-any.whl.metadata (3.8 kB)\n",
      "Collecting fonttools>=4.22.0 (from matplotlib)\n",
      "  Downloading fonttools-4.58.0-cp313-cp313-macosx_10_13_universal2.whl.metadata (104 kB)\n",
      "Collecting kiwisolver>=1.3.1 (from matplotlib)\n",
      "  Using cached kiwisolver-1.4.8-cp313-cp313-macosx_11_0_arm64.whl.metadata (6.2 kB)\n",
      "Requirement already satisfied: numpy>=1.23 in /opt/homebrew/Cellar/jupyterlab/4.3.5/libexec/lib/python3.13/site-packages (from matplotlib) (2.2.5)\n",
      "Requirement already satisfied: packaging>=20.0 in /opt/homebrew/Cellar/jupyterlab/4.3.5/libexec/lib/python3.13/site-packages (from matplotlib) (24.2)\n",
      "Collecting pillow>=8 (from matplotlib)\n",
      "  Downloading pillow-11.2.1-cp313-cp313-macosx_11_0_arm64.whl.metadata (8.9 kB)\n",
      "Collecting pyparsing>=2.3.1 (from matplotlib)\n",
      "  Using cached pyparsing-3.2.3-py3-none-any.whl.metadata (5.0 kB)\n",
      "Requirement already satisfied: python-dateutil>=2.7 in /opt/homebrew/Cellar/jupyterlab/4.3.5/libexec/lib/python3.13/site-packages (from matplotlib) (2.9.0.post0)\n",
      "Requirement already satisfied: six>=1.5 in /opt/homebrew/Cellar/jupyterlab/4.3.5/libexec/lib/python3.13/site-packages (from python-dateutil>=2.7->matplotlib) (1.17.0)\n",
      "Downloading matplotlib-3.10.3-cp313-cp313-macosx_11_0_arm64.whl (8.1 MB)\n",
      "\u001b[2K   \u001b[38;2;114;156;31m━━━━━━━━━━━━━━━━━━━━━━━━━━━━━━━━━━━━━━━━\u001b[0m \u001b[32m8.1/8.1 MB\u001b[0m \u001b[31m5.4 MB/s\u001b[0m eta \u001b[36m0:00:00\u001b[0m MB/s\u001b[0m eta \u001b[36m0:00:01\u001b[0m\n",
      "\u001b[?25hDownloading contourpy-1.3.2-cp313-cp313-macosx_11_0_arm64.whl (255 kB)\n",
      "Using cached cycler-0.12.1-py3-none-any.whl (8.3 kB)\n",
      "Downloading fonttools-4.58.0-cp313-cp313-macosx_10_13_universal2.whl (2.7 MB)\n",
      "\u001b[2K   \u001b[38;2;114;156;31m━━━━━━━━━━━━━━━━━━━━━━━━━━━━━━━━━━━━━━━━\u001b[0m \u001b[32m2.7/2.7 MB\u001b[0m \u001b[31m7.8 MB/s\u001b[0m eta \u001b[36m0:00:00\u001b[0m MB/s\u001b[0m eta \u001b[36m0:00:01\u001b[0m\n",
      "\u001b[?25hUsing cached kiwisolver-1.4.8-cp313-cp313-macosx_11_0_arm64.whl (65 kB)\n",
      "Downloading pillow-11.2.1-cp313-cp313-macosx_11_0_arm64.whl (3.0 MB)\n",
      "\u001b[2K   \u001b[38;2;114;156;31m━━━━━━━━━━━━━━━━━━━━━━━━━━━━━━━━━━━━━━━━\u001b[0m \u001b[32m3.0/3.0 MB\u001b[0m \u001b[31m8.5 MB/s\u001b[0m eta \u001b[36m0:00:00\u001b[0m[31m10.1 MB/s\u001b[0m eta \u001b[36m0:00:01\u001b[0m\n",
      "Using cached pyparsing-3.2.3-py3-none-any.whl (111 kB)\n",
      "Installing collected packages: pyparsing, pillow, kiwisolver, fonttools, cycler, contourpy, matplotlib\n",
      "Successfully installed contourpy-1.3.2 cycler-0.12.1 fonttools-4.58.0 kiwisolver-1.4.8 matplotlib-3.10.3 pillow-11.2.1 pyparsing-3.2.3\n",
      "\n",
      "\u001b[1m[\u001b[0m\u001b[34;49mnotice\u001b[0m\u001b[1;39;49m]\u001b[0m\u001b[39;49m A new release of pip is available: \u001b[0m\u001b[31;49m24.3.1\u001b[0m\u001b[39;49m -> \u001b[0m\u001b[32;49m25.1.1\u001b[0m\n",
      "\u001b[1m[\u001b[0m\u001b[34;49mnotice\u001b[0m\u001b[1;39;49m]\u001b[0m\u001b[39;49m To update, run: \u001b[0m\u001b[32;49m/opt/homebrew/Cellar/jupyterlab/4.3.5/libexec/bin/python -m pip install --upgrade pip\u001b[0m\n"
     ]
    }
   ],
   "source": [
    "import sys\n",
    "!{sys.executable} -m pip install matplotlib"
   ]
  },
  {
   "cell_type": "code",
   "execution_count": 6,
   "id": "8339a60b-2809-43a8-8c2f-198286ded742",
   "metadata": {},
   "outputs": [],
   "source": [
    "import pandas as pd\n",
    "import matplotlib.pyplot as plt\n"
   ]
  },
  {
   "cell_type": "code",
   "execution_count": 7,
   "id": "71620204-1c0a-495d-8018-c8bde855089d",
   "metadata": {},
   "outputs": [
    {
     "name": "stdout",
     "output_type": "stream",
     "text": [
      "✅ Крок 1: Завантажено та відфільтровано дані\n",
      "   user_id              product_id  refunded purchase_date     country_code  \\\n",
      "1  2604470  tenwords_1w_9.99_offer     False    2020-09-29               UK   \n",
      "2  2274467  tenwords_1w_9.99_offer     False    2020-08-18  Organic/Unknown   \n",
      "4  2571294  tenwords_1w_9.99_offer     False    2020-09-25               US   \n",
      "5  2217390  tenwords_1w_9.99_offer     False    2020-09-05               MX   \n",
      "6  2086438  tenwords_1w_9.99_offer     False    2020-07-28               US   \n",
      "\n",
      "      media_source  \n",
      "1     Facebook Ads  \n",
      "2  Organic/Unknown  \n",
      "4       Google Ads  \n",
      "5     Facebook Ads  \n",
      "6     Facebook Ads  \n"
     ]
    }
   ],
   "source": [
    "df = pd.read_csv('file1.csv', parse_dates=['purchase_date'])\n",
    "\n",
    "# Choose only tenwords_1w_9.99_offer and non-refunded payments\n",
    "df = df[(df['product_id'] == 'tenwords_1w_9.99_offer') & (df['refunded'] == False)]"
   ]
  },
  {
   "cell_type": "code",
   "execution_count": 8,
   "id": "d3414f88-e26d-4919-b010-5f70fcd14ffb",
   "metadata": {},
   "outputs": [
    {
     "name": "stdout",
     "output_type": "stream",
     "text": [
      "✅ Крок 2: Нумерація платежів для кожного користувача\n",
      "       user_id              product_id  refunded purchase_date  \\\n",
      "6970     27637  tenwords_1w_9.99_offer     False    2020-07-05   \n",
      "38650    31549  tenwords_1w_9.99_offer     False    2020-08-25   \n",
      "61235    31549  tenwords_1w_9.99_offer     False    2020-08-25   \n",
      "47316    31921  tenwords_1w_9.99_offer     False    2020-08-25   \n",
      "31438    34244  tenwords_1w_9.99_offer     False    2020-09-07   \n",
      "45838    34491  tenwords_1w_9.99_offer     False    2020-07-15   \n",
      "46464    34491  tenwords_1w_9.99_offer     False    2020-07-22   \n",
      "57328    34491  tenwords_1w_9.99_offer     False    2020-08-22   \n",
      "62809    34491  tenwords_1w_9.99_offer     False    2020-08-22   \n",
      "25192    35450  tenwords_1w_9.99_offer     False    2020-08-20   \n",
      "\n",
      "          country_code     media_source  payment_number  \n",
      "6970                PL     Facebook Ads               1  \n",
      "38650               CO     Facebook Ads               1  \n",
      "61235               CO     Facebook Ads               2  \n",
      "47316               FR     Facebook Ads               1  \n",
      "31438               NL     Facebook Ads               1  \n",
      "45838  Organic/Unknown  Organic/Unknown               1  \n",
      "46464  Organic/Unknown  Organic/Unknown               2  \n",
      "57328  Organic/Unknown  Organic/Unknown               3  \n",
      "62809  Organic/Unknown  Organic/Unknown               4  \n",
      "25192               KR     Facebook Ads               1  \n"
     ]
    }
   ],
   "source": [
    "# Sorying ad enumerating payments\n",
    "df = df.sort_values(by=['user_id', 'purchase_date'])\n",
    "df['payment_number'] = df.groupby('user_id').cumcount() + 1"
   ]
  },
  {
   "cell_type": "code",
   "execution_count": 9,
   "id": "3680330d-64f1-448c-8540-e6bfcb6f5ff4",
   "metadata": {},
   "outputs": [
    {
     "name": "stdout",
     "output_type": "stream",
     "text": [
      "✅ Крок 3: Середня кількість оплат на користувача: 2.39\n"
     ]
    }
   ],
   "source": [
    "# Calculating number of payments for every user\n",
    "payments_per_user = df.groupby('user_id').size()\n",
    "\n",
    "# Average number of payments per user\n",
    "avg_payments_per_user = payments_per_user.mean()"
   ]
  },
  {
   "cell_type": "code",
   "execution_count": 10,
   "id": "6f366f71-9332-41ea-92fc-ee44f2e4344d",
   "metadata": {},
   "outputs": [
    {
     "name": "stdout",
     "output_type": "stream",
     "text": [
      "✅ Крок 4: Прогнозований LTV за весь період: $23.85\n"
     ]
    }
   ],
   "source": [
    "price_per_payment = 9.99\n",
    "ltv = avg_payments_per_user * price_per_payment\n",
    "\n",
    "print(f\"Predicted LTV for the whole period: ${ltv:.2f}\")\n"
   ]
  },
  {
   "cell_type": "code",
   "execution_count": 12,
   "id": "222aa3d9-65a5-441b-82a0-a687b18369fd",
   "metadata": {},
   "outputs": [
    {
     "data": {
      "image/png": "[encoded data removed]",
      "text/plain": [
       "<Figure size 1000x500 with 1 Axes>"
      ]
     },
     "metadata": {},
     "output_type": "display_data"
    }
   ],
   "source": [
    "# Duration in days since first payment\n",
    "df['min_purchase'] = df.groupby('user_id')['purchase_date'].transform('min')\n",
    "df['days_since_first'] = (df['purchase_date'] - df['min_purchase']).dt.days\n",
    "\n",
    "#Crete \n",
    "payment_lifetime = df.groupby('days_since_first').size().cumsum()\n",
    "\n",
    "plt.figure(figsize=(10,5))\n",
    "payment_lifetime.plot()\n",
    "plt.title(\"Кумулятивні покупки за днями з моменту підписки\")\n",
    "plt.xlabel(\"Дні з моменту першої підписки\")\n",
    "plt.ylabel(\"Сумарна кількість оплат\")\n",
    "plt.grid(True)\n",
    "plt.show()\n"
   ]
  },
  {
   "cell_type": "code",
   "execution_count": null,
   "id": "779d31f1-8425-4734-be33-007618d1c492",
   "metadata": {},
   "outputs": [],
   "source": []
  }
 ],
 "metadata": {
  "kernelspec": {
   "display_name": "Python 3 (ipykernel)",
   "language": "python",
   "name": "python3"
  },
  "language_info": {
   "codemirror_mode": {
    "name": "ipython",
    "version": 3
   },
   "file_extension": ".py",
   "mimetype": "text/x-python",
   "name": "python",
   "nbconvert_exporter": "python",
   "pygments_lexer": "ipython3",
   "version": "3.13.1"
  }
 },
 "nbformat": 4,
 "nbformat_minor": 5
}
